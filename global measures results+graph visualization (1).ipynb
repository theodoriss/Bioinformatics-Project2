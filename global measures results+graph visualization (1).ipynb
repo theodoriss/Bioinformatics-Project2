{
 "cells": [
  {
   "cell_type": "code",
   "execution_count": 1,
   "metadata": {},
   "outputs": [],
   "source": [
    "import pandas as pd\n",
    "import networkx as nx\n",
    "import numpy as np\n",
    "import matplotlib.pyplot as plt"
   ]
  },
  {
   "cell_type": "code",
   "execution_count": 3,
   "metadata": {},
   "outputs": [
    {
     "name": "stdout",
     "output_type": "stream",
     "text": [
      "D:\\sapienza\\Bioinformatics\\data\n"
     ]
    }
   ],
   "source": [
    "cd D:\\sapienza\\Bioinformatics\\data"
   ]
  },
  {
   "cell_type": "code",
   "execution_count": 4,
   "metadata": {},
   "outputs": [],
   "source": [
    "union_interactome=pd.read_csv('union_interactome',delimiter='\\t')\n",
    "union_interactome= union_interactome.drop('Unnamed: 0',axis=1)"
   ]
  },
  {
   "cell_type": "code",
   "execution_count": 4,
   "metadata": {},
   "outputs": [],
   "source": [
    "def get_df_name(df):\n",
    "    name =[x for x in globals() if globals()[x] is df][0]\n",
    "    return name"
   ]
  },
  {
   "cell_type": "code",
   "execution_count": 102,
   "metadata": {},
   "outputs": [],
   "source": [
    "def calculate_centralization(dataframe):\n",
    "    G=nx.Graph()\n",
    "    Graph=nx.from_pandas_edgelist(dataframe[['uniprot_a','uniprot_b']],create_using=G,source='uniprot_a',target='uniprot_b')\n",
    "    density=2*len(Graph.edges())/(len(Graph.nodes())*(len(Graph.nodes())-1))\n",
    "    \n",
    "    print('centralization is : '+ str(max([val for (node, val) in G.degree()])/(len(Graph.nodes())-1)-density))"
   ]
  },
  {
   "cell_type": "code",
   "execution_count": 105,
   "metadata": {},
   "outputs": [],
   "source": [
    "def calculate_global_measures(dataframe):\n",
    "    G=nx.Graph()\n",
    "    Graph=nx.from_pandas_edgelist(dataframe[['uniprot_a','uniprot_b']],create_using=G,source='uniprot_a',target='uniprot_b')\n",
    "    print('NAME OF NETWORK IS: '+get_df_name(dataframe))\n",
    "    print('number of nodes:  '+str(len(Graph.nodes())),'number of edges: '+str(len(Graph.edges())))\n",
    "    print('sizes of connected components: '+str([len(c)  for c in nx.connected_components(Graph)]))\n",
    "    print('number of isolated nodes: '+''.join([ len(c)  for c in nx.isolates(Graph)]))\n",
    "    print('average path length is : '+ str(nx.average_shortest_path_length(Graph)))\n",
    "    print('average degree is: '+str(mean(list(nx.average_degree_connectivity(Graph).values()))))\n",
    "    print('average clustering coeficcient is:  '+ str(nx.average_clustering(Graph)))\n",
    "    print('diameter of network is: '+str(nx.diameter(Graph)))\n",
    "    calculate_centralization(dataframe)\n",
    "    "
   ]
  },
  {
   "cell_type": "code",
   "execution_count": 106,
   "metadata": {},
   "outputs": [
    {
     "name": "stdout",
     "output_type": "stream",
     "text": [
      "NAME OF NETWORK IS: union_interactome\n",
      "number of nodes:  16820 number of edges: 343100\n",
      "sizes of connected components: [16820]\n",
      "number of isolated nodes: \n",
      "average path length is : 2.9148101147426906\n",
      "average degree is: 227.04004266675312\n",
      "average clustering coeficcient is:  0.1406410582614596\n",
      "diameter of network is: 6\n",
      "centralization is : 0.14247002374515713\n"
     ]
    }
   ],
   "source": [
    "calculate_global_measures(union_interactome)"
   ]
  },
  {
   "cell_type": "code",
   "execution_count": 5,
   "metadata": {},
   "outputs": [],
   "source": [
    "seed_genes_interactome=pd.read_csv('seed_genes_interactome',delimiter='\\t')\n",
    "seed_genes_interactome= seed_genes_interactome.drop('Unnamed: 0',axis=1)"
   ]
  },
  {
   "cell_type": "code",
   "execution_count": 108,
   "metadata": {},
   "outputs": [
    {
     "name": "stdout",
     "output_type": "stream",
     "text": [
      "NAME OF NETWORK IS: seed_genes_interactome\n",
      "number of nodes:  5951 number of edges: 12501\n",
      "sizes of connected components: [5951]\n",
      "number of isolated nodes: \n",
      "average path length is : 3.345755547051622\n",
      "average degree is: 100.03437333002384\n",
      "average clustering coeficcient is:  0.16843598878836036\n",
      "diameter of network is: 6\n",
      "centralization is : 0.35542835114217086\n"
     ]
    }
   ],
   "source": [
    "calculate_global_measures(seed_genes_interactome)"
   ]
  },
  {
   "cell_type": "code",
   "execution_count": 6,
   "metadata": {},
   "outputs": [],
   "source": [
    "intersection_interactome=pd.read_csv('intersection_interactome',delimiter='\\t')\n",
    "intersection_interactome= intersection_interactome.drop('Unnamed: 0',axis=1)"
   ]
  },
  {
   "cell_type": "code",
   "execution_count": 110,
   "metadata": {},
   "outputs": [
    {
     "name": "stdout",
     "output_type": "stream",
     "text": [
      "NAME OF NETWORK IS: intersection_interactome\n",
      "number of nodes:  16449 number of edges: 304749\n",
      "sizes of connected components: [16449]\n",
      "number of isolated nodes: \n",
      "average path length is : 2.923410103165237\n",
      "average degree is: 225.08906505752086\n",
      "average clustering coeficcient is:  0.1547202223378294\n",
      "diameter of network is: 6\n",
      "centralization is : 0.1459111258108721\n"
     ]
    }
   ],
   "source": [
    "calculate_global_measures(intersection_interactome)"
   ]
  },
  {
   "cell_type": "code",
   "execution_count": null,
   "metadata": {},
   "outputs": [],
   "source": [
    " def save_graph(dataframe,file_name):\n",
    "    #initialze Figure\n",
    "    G=nx.Graph()\n",
    "    graph=nx.from_pandas_edgelist(dataframe[['uniprot_a','uniprot_b']],create_using=G,source='uniprot_a',target='uniprot_b')\n",
    "    plt.figure(num=None, figsize=(200, 200), dpi=80)\n",
    "    plt.axis('off')\n",
    "    fig = plt.figure(1)\n",
    "    pos = nx.spring_layout(graph)\n",
    "    nx.draw_networkx_nodes(graph,pos)\n",
    "    nx.draw_networkx_edges(graph,pos)\n",
    "    nx.draw_networkx_labels(graph,pos)\n",
    "\n",
    "   # cut = 1.00\n",
    "  #  xmax = cut * max(xx for xx, yy in pos.values())\n",
    "  #  ymax = cut * max(yy for xx, yy in pos.values())\n",
    "  #  plt.xlim(0, xmax)\n",
    "  #  plt.ylim(0, ymax)\n",
    "\n",
    "    plt.savefig(file_name,bbox_inches=\"tight\")\n",
    "    del fig\n",
    "\n",
    "#Assuming that the graph g has nodes and edges entered\n",
    "save_graph(seed_genes_interactome,\"seed_genes_interactome.pdf\")"
   ]
  },
  {
   "cell_type": "code",
   "execution_count": null,
   "metadata": {},
   "outputs": [],
   "source": [
    "save_graph(intersection_interactome,\"LCC_I.pdf\")"
   ]
  },
  {
   "cell_type": "code",
   "execution_count": null,
   "metadata": {},
   "outputs": [],
   "source": []
  }
 ],
 "metadata": {
  "kernelspec": {
   "display_name": "Python 3",
   "language": "python",
   "name": "python3"
  },
  "language_info": {
   "codemirror_mode": {
    "name": "ipython",
    "version": 3
   },
   "file_extension": ".py",
   "mimetype": "text/x-python",
   "name": "python",
   "nbconvert_exporter": "python",
   "pygments_lexer": "ipython3",
   "version": "3.7.3"
  }
 },
 "nbformat": 4,
 "nbformat_minor": 2
}
