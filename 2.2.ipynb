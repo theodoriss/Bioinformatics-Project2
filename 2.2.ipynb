{
  "nbformat": 4,
  "nbformat_minor": 0,
  "metadata": {
    "colab": {
      "name": "BIO PROJECT 2.ipynb",
      "provenance": [],
      "collapsed_sections": [],
      "toc_visible": true
    },
    "kernelspec": {
      "name": "python3",
      "display_name": "Python 3"
    }
  },
  "cells": [
    {
      "cell_type": "markdown",
      "metadata": {
        "id": "LktP71qorib_",
        "colab_type": "text"
      },
      "source": [
        "## imports"
      ]
    },
    {
      "cell_type": "code",
      "metadata": {
        "id": "Yj8GRA0AHcdm",
        "colab_type": "code",
        "colab": {}
      },
      "source": [
        "from google.colab import drive\n",
        "drive.mount('/content/drive')"
      ],
      "execution_count": 0,
      "outputs": []
    },
    {
      "cell_type": "code",
      "metadata": {
        "id": "A-HnzInHHqx3",
        "colab_type": "code",
        "outputId": "e3ae21b3-cc23-44e3-ed9d-172aeca1241b",
        "colab": {
          "base_uri": "https://localhost:8080/",
          "height": 35
        }
      },
      "source": [
        "cd /content/drive/My Drive/BIO/BIO PROJECT 2"
      ],
      "execution_count": 47,
      "outputs": [
        {
          "output_type": "stream",
          "text": [
            "/content/drive/My Drive/BIO/BIO PROJECT 2\n"
          ],
          "name": "stdout"
        }
      ]
    },
    {
      "cell_type": "code",
      "metadata": {
        "id": "N0S4mEGkHq2e",
        "colab_type": "code",
        "colab": {
          "base_uri": "https://localhost:8080/",
          "height": 124
        },
        "outputId": "28971155-7e8d-4231-809a-a715ebe5a944"
      },
      "source": [
        "!pip install markov_clustering"
      ],
      "execution_count": 48,
      "outputs": [
        {
          "output_type": "stream",
          "text": [
            "Requirement already satisfied: markov_clustering in /usr/local/lib/python3.6/dist-packages (0.0.6.dev0)\n",
            "Requirement already satisfied: scikit-learn in /usr/local/lib/python3.6/dist-packages (from markov_clustering) (0.22.1)\n",
            "Requirement already satisfied: scipy>=0.19.0 in /usr/local/lib/python3.6/dist-packages (from markov_clustering) (1.4.1)\n",
            "Requirement already satisfied: numpy in /usr/local/lib/python3.6/dist-packages (from markov_clustering) (1.17.5)\n",
            "Requirement already satisfied: joblib>=0.11 in /usr/local/lib/python3.6/dist-packages (from scikit-learn->markov_clustering) (0.14.1)\n"
          ],
          "name": "stdout"
        }
      ]
    },
    {
      "cell_type": "code",
      "metadata": {
        "id": "MP4x5PufHq4g",
        "colab_type": "code",
        "colab": {}
      },
      "source": [
        "import markov_clustering as mc\n",
        "import networkx as nx\n",
        "import random\n",
        "import pandas as pd\n",
        "from tqdm import tqdm\n",
        "from scipy.stats import hypergeom"
      ],
      "execution_count": 0,
      "outputs": []
    },
    {
      "cell_type": "markdown",
      "metadata": {
        "id": "efqhaWdgroqb",
        "colab_type": "text"
      },
      "source": [
        "## 2.2 Apply clustering methods for disease modules discovery"
      ]
    },
    {
      "cell_type": "code",
      "metadata": {
        "id": "SyiCpZNoKdZg",
        "colab_type": "code",
        "colab": {
          "base_uri": "https://localhost:8080/",
          "height": 35
        },
        "outputId": "d5608b80-2f95-4621-809a-2da97eee4554"
      },
      "source": [
        "# importing list of seed genes we found before\n",
        "seed_gs = pd.read_csv('task_1.1c.tab',sep=\"\\t\")\n",
        "seed_gs = seed_gs.drop('Unnamed: 0',axis=1)\n",
        "seed_gs = seed_gs.dropna(subset=['geneSymbol'])\n",
        "seed_genes_list = list(seed_gs.geneSymbol)\n",
        "seed_genes_list.remove('DLEU2') # not presented\n",
        "print('Number of seed genes: ', len(seed_genes_list))"
      ],
      "execution_count": 90,
      "outputs": [
        {
          "output_type": "stream",
          "text": [
            "Number of seed genes:  107\n"
          ],
          "name": "stdout"
        }
      ]
    },
    {
      "cell_type": "code",
      "metadata": {
        "id": "5HZBB-6Q4Tiq",
        "colab_type": "code",
        "colab": {}
      },
      "source": [
        "# reading files\n",
        "#LCC_U = pd.read_csv('LCC_U_local_measures', delimiter='\\t', usecols=['Name'])['Name'].tolist()\n",
        "#LCC_I = pd.read_csv('LCC_I', delimiter='\\t', usecols=['Name'])['Name'].tolist()\n",
        "intersection_interactome = pd.read_csv('intersection_interactome', delimiter='\\t',\\\n",
        "                                       usecols=['symbol_a','symbol_b'])\n",
        "union_interactome = pd.read_csv('union_interactome', delimiter='\\t',\\\n",
        "                                       usecols=['symbol_a','symbol_b'])"
      ],
      "execution_count": 0,
      "outputs": []
    },
    {
      "cell_type": "code",
      "metadata": {
        "id": "AVq01IRjuCG4",
        "colab_type": "code",
        "outputId": "334782f5-6f95-4a83-f169-94a086243b89",
        "colab": {
          "base_uri": "https://localhost:8080/",
          "height": 52
        }
      },
      "source": [
        "# recreating graphs for LCC_U and LCC_I\n",
        "\n",
        "def graphs_from_edges(df):\n",
        "    _edges = list()\n",
        "    for i in tqdm(range(len(df['symbol_a']))):\n",
        "        #if df['uniprot_a'][i] in _nodes_list:\n",
        "           # if df['uniprot_b'][i] in _nodes_list:\n",
        "        _edges.append((df['symbol_a'][i], df['symbol_b'][i]))\n",
        "    return(_edges)\n",
        "\n",
        "LCC_U_edges = graphs_from_edges(union_interactome)\n",
        "LCC_I_edges = graphs_from_edges(intersection_interactome)"
      ],
      "execution_count": 92,
      "outputs": [
        {
          "output_type": "stream",
          "text": [
            "100%|██████████| 573914/573914 [00:12<00:00, 46022.20it/s]\n",
            "100%|██████████| 533078/533078 [00:11<00:00, 45821.02it/s]\n"
          ],
          "name": "stderr"
        }
      ]
    },
    {
      "cell_type": "code",
      "metadata": {
        "id": "Hd5yCoKS_9na",
        "colab_type": "code",
        "colab": {}
      },
      "source": [
        "# Cluster I-LCC and U-LCC using the MCL algorithm to get the modules\n",
        "\n",
        "def putative_disease_modules(_edges_list, filename):\n",
        "    # creating graph from list of edges\n",
        "    G = nx.Graph()\n",
        "    G.add_edges_from(_edges_list)\n",
        "    # renaming nodes to integers\n",
        "    G_int = nx.convert_node_labels_to_integers(G,label_attribute='old_label')\n",
        "    # clustering graph using MCL algo\n",
        "    matrix_G = nx.to_scipy_sparse_matrix(G_int) # get the adjacency matrix (in sparse form)\n",
        "    result_G = mc.run_mcl(matrix_G, inflation=2)  # run MCL with default parameters\n",
        "    clusters_G = mc.get_clusters(result_G) # get clusters\n",
        "    clusters_candidates = [cluster for cluster in clusters_G if len(cluster) >= 10]\n",
        "\n",
        "    # creating map from integer id to label of nodes\n",
        "    nodes_id_label_map = dict()\n",
        "    for elem in list(G_int.nodes(data=True)):\n",
        "        nodes_id_label_map.update({elem[1]['old_label']:elem[0]})\n",
        "    # mapping seed genes into integer id\n",
        "    seed_genes_list_id = [nodes_id_label_map[key] for key in seed_genes_list]\n",
        "\n",
        "    # invert mapping to integer-key, label-value\n",
        "    nodes_label_id_map = {v: k for k, v in nodes_id_label_map.items()}\n",
        "\n",
        "    # finding clusters igger than 10 nodes, containing at least 1 seed gene\n",
        "    clusters_information = []\n",
        "    clusters_ = []\n",
        "    for cluster in clusters_candidates:\n",
        "        if len(set(cluster).intersection(set(seed_genes_list_id))) > 0:\n",
        "            clusters_.append(cluster)\n",
        "            # clusters_information - # of seed genes, total # of genes, seed genes ids\n",
        "            clusters_information.append([len(set(cluster).intersection(set(seed_genes_list_id))),\\\n",
        "                                        len(cluster), set(cluster).intersection(set(seed_genes_list_id))])\n",
        "    \n",
        "    f = open(filename + '_putative_disease_modules' + '.txt', \"w\")\n",
        "    f.write('Number of clusters containing seed genes and no. of nodes >= 10: '\\\n",
        "            + str(len(clusters_)) + '\\n' + '\\n')\n",
        "    \n",
        "    f.write('Putative disease modules:' + '\\n' + '\\n')\n",
        "    # hypergeometric test\n",
        "    for i in range(len(clusters_)):\n",
        "        M = len(G_int.nodes) # population size = size of graph\n",
        "        n = len(seed_genes_list_id) # number of successes in population = number of seed genes\n",
        "        N = clusters_information[i][1] # sample size = size of module[i]/cluster[i]\n",
        "        x = clusters_information[i][0] # number of successes in sample\n",
        "        if hypergeom.sf(x-1, M, n, N) < 0.05:\n",
        "            f.write('    Module ID: ' + str(i) + '\\n')\n",
        "            f.write('Clustering algorithm: MCL' + '\\n')\n",
        "            f.write('No. of seed genes in module: ' + str(clusters_information[i][0]) + '\\n')\n",
        "            f.write('Total no. of genes in module: ' + str(clusters_information[i][1]) + '\\n')\n",
        "            seed_genes = [nodes_label_id_map[id] for id in list(clusters_information[i][2])]\n",
        "            f.write('Seed genes IDs: ' + str(seed_genes) + '\\n')\n",
        "            genes = [nodes_label_id_map[id] for id in clusters_[i]]\n",
        "            f.write('Genes IDs: '+ str(genes) + '\\n')\n",
        "            f.write('p-val: ' +  str(round(hypergeom.sf(x-1, M, n, N),4)) + '\\n' + '\\n')\n",
        "            f1 = open(filename + '_cluster_' + str(i) + '.txt', \"w\")\n",
        "            for g in genes:\n",
        "                f1.write(g + '\\n')\n",
        "            f1.close()\n",
        "\n",
        "    f.close()"
      ],
      "execution_count": 0,
      "outputs": []
    },
    {
      "cell_type": "code",
      "metadata": {
        "id": "jNwQKl1r0XGO",
        "colab_type": "code",
        "colab": {}
      },
      "source": [
        "putative_disease_modules(LCC_U_edges, 'U_LCC')"
      ],
      "execution_count": 0,
      "outputs": []
    },
    {
      "cell_type": "code",
      "metadata": {
        "id": "2-ZUPBO90qba",
        "colab_type": "code",
        "colab": {}
      },
      "source": [
        "putative_disease_modules(LCC_I_edges, 'I_LCC')"
      ],
      "execution_count": 0,
      "outputs": []
    }
  ]
}